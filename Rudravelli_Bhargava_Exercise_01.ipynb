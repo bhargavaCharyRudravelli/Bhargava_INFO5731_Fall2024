{
  "cells": [
    {
      "cell_type": "markdown",
      "metadata": {
        "id": "view-in-github",
        "colab_type": "text"
      },
      "source": [
        "<a href=\"https://colab.research.google.com/github/bhargavaCharyRudravelli/Bhargava_INFO5731_Fall2024/blob/main/Rudravelli_Bhargava_Exercise_01.ipynb\" target=\"_parent\"><img src=\"https://colab.research.google.com/assets/colab-badge.svg\" alt=\"Open In Colab\"/></a>"
      ]
    },
    {
      "cell_type": "markdown",
      "metadata": {
        "id": "DymRJbxDBCnf"
      },
      "source": [
        "# **INFO5731 Exercise 1**\n",
        "\n",
        "This exercise covers a variety of fundamental concepts in Python and is designed to help students improve their coding skills and problem-solving abilities.\n",
        "\n",
        "**Expectations**:\n",
        "*   Students are expected to complete the exercise during lecture period to meet the active participation criteria of the course.\n",
        "*   Use the provided .*ipynb* document to write your code & respond to the questions. Avoid generating a new file.\n",
        "*   Write complete answers and run all the cells before submission.\n",
        "*   Make sure the submission is \"clean\"; *i.e.*, no unnecessary code cells.\n",
        "*   Once finished, allow shared rights from top right corner (*see Canvas for details*).\n",
        "\n",
        "**Total points**: 40\n",
        "\n",
        "**Deadline**: This in-class exercise is due at the end of the day tomorrow, at 11:59 PM.\n",
        "\n",
        "**Late submissions cannot be considered, and no requests will be answered. Manage your time accordingly.**\n"
      ]
    },
    {
      "cell_type": "markdown",
      "source": [
        "## Question 1\n",
        "Write a Python program that  prompts the user to input the length and width of a rectangle, and then calculates and displays the area of the rectangle."
      ],
      "metadata": {
        "id": "FBKvD6O_TY6e"
      }
    },
    {
      "cell_type": "code",
      "source": [
        "# write your answer here\n",
        "# Get the length and width of the rectangle from the user\n",
        "a = float(input(\"Enter the length of a rectangle: \"))\n",
        "b = float(input(\"Enter the width of a rectangle: \"))\n",
        "\n",
        "# Calculate the area of the rectangle\n",
        "area = a * b\n",
        "\n",
        "# Display the result\n",
        "print(\"The area of the rectangle is:\", area)"
      ],
      "metadata": {
        "id": "cikVKDXdTbzE",
        "colab": {
          "base_uri": "https://localhost:8080/"
        },
        "outputId": "8b7f72ed-49b9-4383-86b7-05189e4c031d"
      },
      "execution_count": 2,
      "outputs": [
        {
          "output_type": "stream",
          "name": "stdout",
          "text": [
            "Enter the length of a rectangle: 5\n",
            "Enter the width of a rectangle: 5\n",
            "The area of the rectangle is: 25.0\n"
          ]
        }
      ]
    },
    {
      "cell_type": "markdown",
      "source": [
        "## Question 2\n",
        "Create a Python program that interactively takes two numerical inputs from the user and swaps their values without utilizing an extra variable."
      ],
      "metadata": {
        "id": "E9RqrlwdTfvl"
      }
    },
    {
      "cell_type": "code",
      "source": [
        "# write your answer here\n",
        "# Enter first number\n",
        "x = int(input(\"Enter first number: \"))\n",
        "# Enter second number\n",
        "y = int(input(\"Enter second number: \"))\n",
        "\n",
        "#swaps their values\n",
        "x, y = y, x\n",
        "\n",
        "# After swapping\n",
        "print(\"The swapped values are\")\n",
        "print(\"first number: \",x)\n",
        "print(\"second number: \",y)\n",
        "\n"
      ],
      "metadata": {
        "id": "4XvRknixTh1g",
        "colab": {
          "base_uri": "https://localhost:8080/"
        },
        "outputId": "9061cb4b-094d-4373-fdc4-0d53fe2dc530"
      },
      "execution_count": 7,
      "outputs": [
        {
          "output_type": "stream",
          "name": "stdout",
          "text": [
            "Enter first number: 2\n",
            "Enter second number: 3\n",
            "The swapped values are\n",
            "first number:  3\n",
            "second number:  2\n"
          ]
        }
      ]
    },
    {
      "cell_type": "markdown",
      "metadata": {
        "id": "03jb4GZsBkBS"
      },
      "source": [
        "## Question 3\n",
        "Write a Python script to determine and print the length of a user-input string."
      ]
    },
    {
      "cell_type": "code",
      "execution_count": 10,
      "metadata": {
        "id": "YaGLbSHHB8Ej",
        "colab": {
          "base_uri": "https://localhost:8080/"
        },
        "outputId": "483e1166-787c-4ce3-c5f0-a91d0921259b"
      },
      "outputs": [
        {
          "output_type": "stream",
          "name": "stdout",
          "text": [
            "Enter a string bhargava\n",
            "The length of the string is:  8\n"
          ]
        }
      ],
      "source": [
        "# write your answer here\n",
        "# Enter a string\n",
        "input_value = input(\"Enter a string \")\n",
        "\n",
        "# Calculate the length of a string\n",
        "length = len(input_value)\n",
        "\n",
        "# Result\n",
        "print(\"The length of the string is: \", length)"
      ]
    },
    {
      "cell_type": "markdown",
      "metadata": {
        "id": "jJDe71iLB616"
      },
      "source": [
        "## Question 4\n",
        "Construct a Python program that counts and displays the occurrences of each character in a given string.\n",
        "\n",
        "Sample String: 'openai.ai',\n",
        "\n",
        "Expected Result: {'a': 2, 'i': 2, '.': 1, 'o': 1, 'p': 1, 'e': 1, 'n': 1}"
      ]
    },
    {
      "cell_type": "code",
      "execution_count": 11,
      "metadata": {
        "id": "MtKskTzbCLaU",
        "colab": {
          "base_uri": "https://localhost:8080/"
        },
        "outputId": "0bdd6df0-15ab-4f8d-e7a9-96a9d60b9b5f"
      },
      "outputs": [
        {
          "output_type": "stream",
          "name": "stdout",
          "text": [
            "Enter a string: BhargavaCharyRudravelli\n",
            "Character frequencies:\n",
            "B: 1\n",
            "h: 2\n",
            "a: 5\n",
            "r: 3\n",
            "g: 1\n",
            "v: 2\n",
            "C: 1\n",
            "y: 1\n",
            "R: 1\n",
            "u: 1\n",
            "d: 1\n",
            "e: 1\n",
            "l: 2\n",
            "i: 1\n"
          ]
        }
      ],
      "source": [
        "# write your answer here\n",
        "# input string from the user\n",
        "input_string = input(\"Enter a string: \")\n",
        "\n",
        "# Create an empty dictionary\n",
        "char_freq = {}\n",
        "\n",
        "# Iterate through each character in the input string\n",
        "for char in input_string:\n",
        "    # If the character is already in the dictionary, increment its count\n",
        "    if char in char_freq:\n",
        "        char_freq[char] += 1\n",
        "    # Otherwise, add the character to the dictionary with a count of 1\n",
        "    else:\n",
        "        char_freq[char] = 1\n",
        "\n",
        "# Result\n",
        "print(\"Character frequencies:\")\n",
        "for char, freq in char_freq.items():\n",
        "    print(f\"{char}: {freq}\")"
      ]
    },
    {
      "cell_type": "markdown",
      "metadata": {
        "id": "55W9AMdXCSpV"
      },
      "source": [
        "## Question 5\n",
        "Design a Python code to calculate the sum of all elements in a user-provided list."
      ]
    },
    {
      "cell_type": "code",
      "execution_count": 14,
      "metadata": {
        "id": "I57NXsauCec2",
        "colab": {
          "base_uri": "https://localhost:8080/"
        },
        "outputId": "0c84959e-fe94-4122-e0f0-c0b07ebc68f2"
      },
      "outputs": [
        {
          "output_type": "stream",
          "name": "stdout",
          "text": [
            "Enter a list of numbers (separated by spaces): 1 2 3 4 5\n",
            "The sum of the list elements is: 15\n"
          ]
        }
      ],
      "source": [
        "# write your answer here\n",
        "# input list from the user\n",
        "input_list = input(\"Enter a list of numbers (separated by spaces): \")\n",
        "\n",
        "# Convert the input string to a list of integers\n",
        "numbers = [int(x) for x in input_list.split()]\n",
        "\n",
        "# Calculate the sum of the list elements\n",
        "total = sum(numbers)\n",
        "\n",
        "# Display the result\n",
        "print(\"The sum of the list elements is:\", total)\n"
      ]
    },
    {
      "cell_type": "markdown",
      "metadata": {
        "id": "4ulBZ6yhCi9F"
      },
      "source": [
        "## Question 6\n",
        "Write a Python program that modifies a given string by replacing all occurrences of its first character with '$', excluding the first character itself.\n",
        "\n",
        "\n",
        "Sample String : 'restart‘\n",
        "Expected Result : 'resta\\$t'"
      ]
    },
    {
      "cell_type": "code",
      "execution_count": 16,
      "metadata": {
        "id": "Fj0XhwbBCw2o",
        "colab": {
          "base_uri": "https://localhost:8080/"
        },
        "outputId": "d5363e0c-6f90-42e8-d0e8-96b0931d9de2"
      },
      "outputs": [
        {
          "output_type": "stream",
          "name": "stdout",
          "text": [
            "Enter a string: malayalam\n",
            "Modified string: malayala$\n"
          ]
        }
      ],
      "source": [
        "# write your answer here\n",
        "# Get the input string from the user\n",
        "input_string = input(\"Enter a string: \")\n",
        "\n",
        "# Get the first character of the input string\n",
        "first_char = input_string[0]\n",
        "\n",
        "# Replace all occurrences of the first character with '$', excluding the first character itself\n",
        "modified_string = first_char + input_string[1:].replace(first_char, '$')\n",
        "\n",
        "# Display the modified string\n",
        "print(\"Modified string:\", modified_string)\n"
      ]
    },
    {
      "cell_type": "markdown",
      "source": [
        "## Question 7\n",
        "Write a Python program using a while loop to compute the factorial of a user-supplied number."
      ],
      "metadata": {
        "id": "qVXA3q7ET5JI"
      }
    },
    {
      "cell_type": "code",
      "source": [
        "# write your answer here\n",
        "# Get the input number from the user\n",
        "a = int(input(\"Enter a positive integer: \"))\n",
        "\n",
        "# Initialize the factorial result to 1\n",
        "result = 1\n",
        "\n",
        "# Initialize the counter to 1\n",
        "counter = 1\n",
        "\n",
        "# Use a while loop to compute the factorial\n",
        "while counter <= a:\n",
        "    result *= counter\n",
        "    counter += 1\n",
        "\n",
        "# Display the result\n",
        "print(\"The factorial of\", a, \"is:\", result)"
      ],
      "metadata": {
        "id": "Lbt7R6UkT7BA",
        "colab": {
          "base_uri": "https://localhost:8080/"
        },
        "outputId": "c6d14465-b2a0-4aef-cb5b-52efc7fc782f"
      },
      "execution_count": 17,
      "outputs": [
        {
          "output_type": "stream",
          "name": "stdout",
          "text": [
            "Enter a positive integer: 4\n",
            "The factorial of 4 is: 24\n"
          ]
        }
      ]
    },
    {
      "cell_type": "markdown",
      "source": [
        "## Question 8\n",
        "Create a program that accepts a list of numbers as input and outputs a new list containing only the even numbers."
      ],
      "metadata": {
        "id": "6YfbzXMNT--R"
      }
    },
    {
      "cell_type": "code",
      "source": [
        "# write your answer here\n",
        "# Get the input list of numbers from the user\n",
        "num_list = input(\"Enter a list of numbers (separated by spaces): \")\n",
        "\n",
        "# Convert the input string to a list of integers\n",
        "num_list = [int(x) for x in num_list.split()]\n",
        "\n",
        "# Use a list comprehension to filter out the even numbers\n",
        "even_numbers = [num for num in num_list if num % 2 == 0]\n",
        "\n",
        "# Display the resulting list of even numbers\n",
        "print(\"Even numbers:\", even_numbers)"
      ],
      "metadata": {
        "id": "54q7wMQPUAKu",
        "colab": {
          "base_uri": "https://localhost:8080/"
        },
        "outputId": "3ff8e0b0-ba6b-4eb1-d42e-859d089293b4"
      },
      "execution_count": 18,
      "outputs": [
        {
          "output_type": "stream",
          "name": "stdout",
          "text": [
            "Enter a list of numbers (separated by spaces): 1 2 3 4 5 6 7 8 88 7 66 54 334 \n",
            "Even numbers: [2, 4, 6, 8, 88, 66, 54, 334]\n"
          ]
        }
      ]
    },
    {
      "cell_type": "markdown",
      "metadata": {
        "id": "_bIP7s1MCzue"
      },
      "source": [
        "## Question 9\n",
        "Design a Python function to check if a number is prime.\n"
      ]
    },
    {
      "cell_type": "code",
      "execution_count": 25,
      "metadata": {
        "id": "w79QilHXD3Mg",
        "colab": {
          "base_uri": "https://localhost:8080/"
        },
        "outputId": "305c3d0a-2d74-4dbb-d769-ae83c7cabc5a"
      },
      "outputs": [
        {
          "output_type": "stream",
          "name": "stdout",
          "text": [
            "Enter a number : 4\n",
            "4 is not a prime number\n"
          ]
        }
      ],
      "source": [
        "# write your answer here\n",
        "num = int(input(\"Enter a number : \"))\n",
        "# Negative numbers, 0 and 1 are not primes\n",
        "if num > 1:\n",
        "\n",
        "    # Iterate from 2 to n // 2\n",
        "    for i in range(2, (num//2)+1):\n",
        "\n",
        "        # If num is divisible by any number between\n",
        "        # 2 and n / 2, it is not prime\n",
        "        if (num % i) == 0:\n",
        "            print(num, \"is not a prime number\")\n",
        "            break\n",
        "    else:\n",
        "        print(num, \"is a prime number\")\n",
        "else:\n",
        "    print(num, \"is not a prime number\")"
      ]
    },
    {
      "cell_type": "markdown",
      "metadata": {
        "id": "xCa2bK9aD4Q3"
      },
      "source": [
        "## Question 10\n",
        "Write a Python program to concatenate following dictionaries to create a new one.\n",
        "\n",
        "Sample Dictionary : dic1={1:10, 2:20}, dic2={3:30, 4:40}, dic3={5:50,6:60},\n",
        "\n",
        "Expected Result : {1: 10, 2: 20, 3: 30, 4: 40, 5: 50, 6: 60}\n"
      ]
    },
    {
      "cell_type": "code",
      "execution_count": 26,
      "metadata": {
        "id": "_z4aLqAbEET1",
        "colab": {
          "base_uri": "https://localhost:8080/"
        },
        "outputId": "bcc2df46-1fea-4f35-d1ed-059bf8b51949"
      },
      "outputs": [
        {
          "output_type": "stream",
          "name": "stdout",
          "text": [
            "Concatenated dictionary: {1: 10, 2: 20, 3: 30, 4: 40, 5: 50, 6: 60}\n"
          ]
        }
      ],
      "source": [
        "# write your answer here\n",
        "# Define the input dictionaries\n",
        "dic1 = {1: 10, 2: 20}\n",
        "dic2 = {3: 30, 4: 40}\n",
        "dic3 = {5: 50, 6: 60}\n",
        "\n",
        "# Use the dictionary `update()` method to concatenate the dictionaries\n",
        "result = {}\n",
        "result.update(dic1)\n",
        "result.update(dic2)\n",
        "result.update(dic3)\n",
        "\n",
        "# Display the resulting dictionary\n",
        "print(\"Concatenated dictionary:\", result)\n"
      ]
    },
    {
      "cell_type": "markdown",
      "source": [
        "## Question 11\n",
        "Design a Python function that takes a tuple of integers as input and returns the largest and smallest elements."
      ],
      "metadata": {
        "id": "bkyZ2xSZUOst"
      }
    },
    {
      "cell_type": "code",
      "source": [
        "# write your answer here\n",
        "def largest_and_smallest():\n",
        "    # Get the input from the user\n",
        "    user_input = input(\"Enter a list of integers separated by spaces: \")\n",
        "\n",
        "    # Convert the input to a tuple of integers\n",
        "    try:\n",
        "        numbers = tuple(int(x) for x in user_input.split())\n",
        "    except ValueError:\n",
        "        print(\"Invalid input. Please enter a list of integers separated by spaces.\")\n",
        "        return None, None\n",
        "\n",
        "    # Return the largest and smallest elements\n",
        "    return max(numbers), min(numbers)\n",
        "\n",
        "# Call the function and print the result\n",
        "largest, smallest = largest_and_smallest()\n",
        "if largest is not None and smallest is not None:\n",
        "    print(\"Largest:\", largest)\n",
        "    print(\"Smallest:\", smallest)\n"
      ],
      "metadata": {
        "id": "3FdLRBKOUQEd",
        "colab": {
          "base_uri": "https://localhost:8080/"
        },
        "outputId": "271ecdcc-6b59-4ec0-e6b6-ee3f29b070f4"
      },
      "execution_count": 29,
      "outputs": [
        {
          "output_type": "stream",
          "name": "stdout",
          "text": [
            "Enter a list of integers separated by spaces: 2 3 4 11 22 33 \n",
            "Largest: 33\n",
            "Smallest: 2\n"
          ]
        }
      ]
    },
    {
      "cell_type": "markdown",
      "source": [
        "## Question 12\n",
        "Write a Python program that counts the frequency of each character in a given string and stores it in a dictionary."
      ],
      "metadata": {
        "id": "O0TVi3gKUTpp"
      }
    },
    {
      "cell_type": "code",
      "source": [
        "# write your answer here\n",
        "def character_frequency_counter(string):\n",
        "    frequency_dict = {}\n",
        "\n",
        "    # Iterate over each character in the string\n",
        "    for char in string:\n",
        "        # If the character is already in the dictionary, increment its count\n",
        "        if char in frequency_dict:\n",
        "            frequency_dict[char] += 1\n",
        "        # Otherwise, add the character to the dictionary with a count of 1\n",
        "        else:\n",
        "            frequency_dict[char] = 1\n",
        "\n",
        "    return frequency_dict\n",
        "\n",
        "# Get the input string from the user\n",
        "user_input = input(\"Enter a string: \")\n",
        "\n",
        "# Call the function and print the result\n",
        "frequency_dict = character_frequency_counter(user_input)\n",
        "print(\"Character Frequencies:\")\n",
        "for char, frequency in frequency_dict.items():\n",
        "    print(f\"{char}: {frequency}\")"
      ],
      "metadata": {
        "id": "lAtfSfZXUU-h",
        "colab": {
          "base_uri": "https://localhost:8080/"
        },
        "outputId": "36d53c61-66b7-4f00-c69b-6cb713a0924f"
      },
      "execution_count": 30,
      "outputs": [
        {
          "output_type": "stream",
          "name": "stdout",
          "text": [
            "Enter a string: bhargava\n",
            "Character Frequencies:\n",
            "b: 1\n",
            "h: 1\n",
            "a: 3\n",
            "r: 1\n",
            "g: 1\n",
            "v: 1\n"
          ]
        }
      ]
    },
    {
      "cell_type": "markdown",
      "metadata": {
        "id": "0v48Vqa7FrQh"
      },
      "source": [
        "## Question 13\n",
        "Implement a Python script to identify duplicate elements in a provided array of integers. Return -1 if there are no duplicates."
      ]
    },
    {
      "cell_type": "code",
      "execution_count": 35,
      "metadata": {
        "id": "7WEmgq-DF2P1",
        "colab": {
          "base_uri": "https://localhost:8080/"
        },
        "outputId": "30421d36-fda5-4859-d581-76ac204a4086"
      },
      "outputs": [
        {
          "output_type": "stream",
          "name": "stdout",
          "text": [
            "Enter a list of integers separated by spaces: 1 1 1 3 3 3\n",
            "Duplicate elements: [1, 3]\n"
          ]
        }
      ],
      "source": [
        "# write your answer here\n",
        "def find_duplicates(arr):\n",
        "    seen = set()\n",
        "    duplicates = set()\n",
        "\n",
        "    # Iterate over each element in the array\n",
        "    for num in arr:\n",
        "        # If the element is already in the seen set, add it to the duplicates set\n",
        "        if num in seen:\n",
        "            duplicates.add(num)\n",
        "        # Otherwise, add the element to the seen set\n",
        "        seen.add(num)\n",
        "\n",
        "    # If there are no duplicates, return -1\n",
        "    if not duplicates:\n",
        "        return -1\n",
        "    # Otherwise, return the list of duplicates\n",
        "    return list(duplicates)\n",
        "\n",
        "# Get the input array from the user\n",
        "user_input = input(\"Enter a list of integers separated by spaces: \")\n",
        "arr = [int(x) for x in user_input.split()]\n",
        "\n",
        "# Call the function and print the result\n",
        "duplicates = find_duplicates(arr)\n",
        "print(\"Duplicate elements:\", duplicates)"
      ]
    },
    {
      "cell_type": "markdown",
      "metadata": {
        "id": "vD5PYLMuGga_"
      },
      "source": [
        "## Question 14\n",
        "Write a Python script to find the common elements between two lists."
      ]
    },
    {
      "cell_type": "code",
      "execution_count": 36,
      "metadata": {
        "id": "t0D5kdJUGjjw",
        "colab": {
          "base_uri": "https://localhost:8080/"
        },
        "outputId": "73e9199e-a1a4-4e40-c32e-c73ff7654cda"
      },
      "outputs": [
        {
          "output_type": "stream",
          "name": "stdout",
          "text": [
            "Enter the first list of elements separated by spaces: 1 2 3 4 5 6 7\n",
            "Enter the second list of elements separated by spaces: 3 5 6 7 8 9 0  9\n",
            "Common elements: ['3', '5', '6', '7']\n"
          ]
        }
      ],
      "source": [
        "# write your answer here\n",
        "def find_common_elements(list1, list2):\n",
        "    # Convert the lists to sets for efficient lookup\n",
        "    set1 = set(list1)\n",
        "    set2 = set(list2)\n",
        "\n",
        "    # Use the intersection of the two sets to find the common elements\n",
        "    common_elements = set1 & set2\n",
        "\n",
        "    # Convert the result back to a list and return it\n",
        "    return list(common_elements)\n",
        "\n",
        "# Get the input lists from the user\n",
        "user_input1 = input(\"Enter the first list of elements separated by spaces: \")\n",
        "list1 = [x for x in user_input1.split()]\n",
        "\n",
        "user_input2 = input(\"Enter the second list of elements separated by spaces: \")\n",
        "list2 = [x for x in user_input2.split()]\n",
        "\n",
        "# Call the function and print the result\n",
        "common_elements = find_common_elements(list1, list2)\n",
        "print(\"Common elements:\", common_elements)\n"
      ]
    },
    {
      "cell_type": "markdown",
      "metadata": {
        "id": "uHkd-y5VhVWC"
      },
      "source": [
        "## Question 15\n",
        "Write a Python program to randomly divide the students in this class into maximum of eight groups for term projects, each group should have at least 4 students but no more than 6 students (including 6).\n",
        "\n",
        "Here is the students list:\n",
        "\n",
        "student_list_spring_2024=[rb0846,\n",
        "ac1964,\n",
        "hc0612,\n",
        "md0912,\n",
        "ad1198,\n",
        "md0894,\n",
        "md0825,\n",
        "vg0598,\n",
        "vg0433,\n",
        "mh1068,\n",
        "yj0173,\n",
        "pk0553,\n",
        "tk0411,\n",
        "srk0204,\n",
        "sk2922,\n",
        "sk2936,\n",
        "mk1302,\n",
        "mk1317,\n",
        "tk0412,\n",
        "vk0656,\n",
        "sm2985,\n",
        "mm2372,\n",
        "un0045,\n",
        "an0892,\n",
        "sn0913,\n",
        "gp0252,\n",
        "ap1484,\n",
        "mr1765,\n",
        "sr1385,\n",
        "sr1335,\n",
        "hs0665,\n",
        "ms2060,\n",
        "gt0217,\n",
        "nt0385,\n",
        "tv0186,\n",
        "sv1394,\n",
        "sv1752,\n",
        "sv1555,\n",
        "sy0594\n",
        "]\n"
      ]
    },
    {
      "cell_type": "code",
      "execution_count": 37,
      "metadata": {
        "id": "3iGbmcOBhTwy",
        "colab": {
          "base_uri": "https://localhost:8080/"
        },
        "outputId": "0abada88-f42c-4ce1-dd2d-43a30302f27a"
      },
      "outputs": [
        {
          "output_type": "stream",
          "name": "stdout",
          "text": [
            "Group 1: tk0411, sk2922, mr1765, vk0656\n",
            "Group 2: sk2936, hc0612, mh1068, sr1335, tv0186\n",
            "Group 3: gt0217, ms2060, sr1385, un0045, pk0553, sy0594\n",
            "Group 4: hs0665, mk1317, ad1198, mm2372, rb0846, an0892\n",
            "Group 5: sn0913, yj0173, sm2985, md0912\n",
            "Group 6: sv1752, gp0252, mk1302, ap1484, ac1964, vg0598\n",
            "Group 7: srk0204, sv1555, nt0385, tk0412, vg0433\n",
            "Group 8: md0825, md0894, sv1394\n"
          ]
        }
      ],
      "source": [
        "# write your answer here\n",
        "import random\n",
        "\n",
        "student_list_spring_2024 = [\n",
        "    \"rb0846\", \"ac1964\", \"hc0612\", \"md0912\", \"ad1198\", \"md0894\", \"md0825\", \"vg0598\", \"vg0433\", \"mh1068\",\n",
        "    \"yj0173\", \"pk0553\", \"tk0411\", \"srk0204\", \"sk2922\", \"sk2936\", \"mk1302\", \"mk1317\", \"tk0412\", \"vk0656\",\n",
        "    \"sm2985\", \"mm2372\", \"un0045\", \"an0892\", \"sn0913\", \"gp0252\", \"ap1484\", \"mr1765\", \"sr1385\", \"sr1335\",\n",
        "    \"hs0665\", \"ms2060\", \"gt0217\", \"nt0385\", \"tv0186\", \"sv1394\", \"sv1752\", \"sv1555\", \"sy0594\"\n",
        "]\n",
        "\n",
        "def divide_students(students):\n",
        "    random.shuffle(students)  # Shuffle the student list to randomize the grouping\n",
        "    groups = []\n",
        "    while students:\n",
        "        group_size = random.randint(4, 6)  # Randomly choose a group size between 4 and 6\n",
        "        group = students[:group_size]\n",
        "        groups.append(group)\n",
        "        students = students[group_size:]\n",
        "    return groups\n",
        "\n",
        "groups = divide_students(student_list_spring_2024)\n",
        "\n",
        "# Print the groups\n",
        "for i, group in enumerate(groups):\n",
        "    print(f\"Group {i+1}: {', '.join(group)}\")\n"
      ]
    },
    {
      "cell_type": "markdown",
      "metadata": {
        "id": "fmZ9vX20Qs3d"
      },
      "source": [
        "## Question 16\n",
        "Create a program that takes a positive integer 'n' as input and prints the count of even numbers from 1 to 'n'. Optimize the loop using the continue statement."
      ]
    },
    {
      "cell_type": "code",
      "execution_count": 38,
      "metadata": {
        "id": "W8Jw6sWMQs3d",
        "colab": {
          "base_uri": "https://localhost:8080/"
        },
        "outputId": "61fa4cbc-9908-497c-bd70-95fc16fbf771"
      },
      "outputs": [
        {
          "output_type": "stream",
          "name": "stdout",
          "text": [
            "Enter a positive integer: 356\n",
            "The count of even numbers from 1 to 356 is: 178\n"
          ]
        }
      ],
      "source": [
        "# write your answer here\n",
        "def count_even_numbers(n):\n",
        "    count = 0\n",
        "    for i in range(1, n + 1):\n",
        "        if i % 2 != 0:  # If the number is odd, skip to the next iteration\n",
        "            continue\n",
        "        count += 1\n",
        "    return count\n",
        "\n",
        "# Get the input from the user\n",
        "n = int(input(\"Enter a positive integer: \"))\n",
        "\n",
        "# Call the function and print the result\n",
        "even_count = count_even_numbers(n)\n",
        "print(f\"The count of even numbers from 1 to {n} is: {even_count}\")\n"
      ]
    },
    {
      "cell_type": "markdown",
      "metadata": {
        "id": "hvq4APMhQs3d"
      },
      "source": [
        "## Question 17\n",
        "Develop a Python function called 'count_vowels' that takes a string as input and returns the count of vowels (both lowercase and uppercase) present in the string, ignoring spaces and non-alphabetic characters."
      ]
    },
    {
      "cell_type": "code",
      "execution_count": 39,
      "metadata": {
        "id": "ZnoxhSglQs3d",
        "colab": {
          "base_uri": "https://localhost:8080/"
        },
        "outputId": "a94772f1-968e-4459-f1db-52c9d8cd37ea"
      },
      "outputs": [
        {
          "output_type": "stream",
          "name": "stdout",
          "text": [
            "Enter a string: bhargava\n",
            "The count of vowels in the string is: 3\n"
          ]
        }
      ],
      "source": [
        "# write your answer here\n",
        "def count_vowels(s):\n",
        "    vowels = 'aeiouAEIOU'  # Define the vowels to count\n",
        "    count = 0\n",
        "    for char in s:\n",
        "        if char.isalpha() and char in vowels:  # Check if the character is alphabetic and a vowel\n",
        "            count += 1\n",
        "    return count\n",
        "\n",
        "input_string = input(\"Enter a string: \")\n",
        "vowel_count = count_vowels(input_string)\n",
        "print(f\"The count of vowels in the string is: {vowel_count}\")"
      ]
    },
    {
      "cell_type": "markdown",
      "source": [
        "## Question 18\n",
        "Create a custom exception named ValueTooSmallError in Python. Write a program that takes user input for an age, and if the entered age is less than 18, raise the ValueTooSmallError with an appropriate error message."
      ],
      "metadata": {
        "id": "55FWoSJPVVM6"
      }
    },
    {
      "cell_type": "code",
      "source": [
        "# write your answer here\n",
        "class ValueTooSmallError(Exception):\n",
        "    pass\n",
        "\n",
        "def validate_age(age):\n",
        "    if age < 18:\n",
        "        raise ValueTooSmallError(\"Age must be at least 18 years old.\")\n",
        "    print(\"Age is valid.\")\n",
        "\n",
        "# Get the input from the user\n",
        "while True:\n",
        "    try:\n",
        "        age = int(input(\"Enter your age: \"))\n",
        "        validate_age(age)\n",
        "        break\n",
        "    except ValueTooSmallError as e:\n",
        "        print(e)\n",
        "    except ValueError:\n",
        "        print(\"Invalid input. Please enter a valid age.\")\n",
        "\n",
        "print(\"Program continues...\")"
      ],
      "metadata": {
        "id": "hwtr1wZmVX5A",
        "colab": {
          "base_uri": "https://localhost:8080/"
        },
        "outputId": "8c85c8ff-c4b7-41be-cc5c-17a40847b53a"
      },
      "execution_count": 42,
      "outputs": [
        {
          "output_type": "stream",
          "name": "stdout",
          "text": [
            "Enter your age: 12\n",
            "Age must be at least 18 years old.\n",
            "Enter your age: 22\n",
            "Age is valid.\n",
            "Program continues...\n"
          ]
        }
      ]
    },
    {
      "cell_type": "markdown",
      "source": [
        "## Question 19\n",
        "Develop a script that reverses a given string without using built-in reverse functions."
      ],
      "metadata": {
        "id": "Q9ecagcaVazW"
      }
    },
    {
      "cell_type": "code",
      "source": [
        "# write your answer here\n",
        "def reverse_string(s):\n",
        "    reversed_s = \"\"  # Initialize an empty string to store the reversed string\n",
        "    for i in range(len(s) - 1, -1, -1):  # Iterate over the input string in reverse order\n",
        "        reversed_s += s[i]  # Append each character to the reversed string\n",
        "    return reversed_s\n",
        "\n",
        "input_string = input(\"Enter a string: \")\n",
        "reversed_string = reverse_string(input_string)\n",
        "print(f\"The reversed string is: {reversed_string}\")"
      ],
      "metadata": {
        "id": "gycgckoAVZjR",
        "colab": {
          "base_uri": "https://localhost:8080/"
        },
        "outputId": "a0f8f906-8eda-46a2-b0d3-6ee4679ca385"
      },
      "execution_count": 43,
      "outputs": [
        {
          "output_type": "stream",
          "name": "stdout",
          "text": [
            "Enter a string: bhargava\n",
            "The reversed string is: avagrahb\n"
          ]
        }
      ]
    },
    {
      "cell_type": "markdown",
      "source": [
        "## Question 20\n",
        "Implement a Python script to generate a random password of a specified length."
      ],
      "metadata": {
        "id": "ZFG6RibifMLu"
      }
    },
    {
      "cell_type": "code",
      "source": [
        "# write your answer here\n",
        "import random\n",
        "import string\n",
        "\n",
        "def generate_password(length):\n",
        "    \"\"\"\n",
        "    Generates a random password of a specified length.\n",
        "    \"\"\"\n",
        "    all_characters = string.ascii_letters + string.digits + string.punctuation\n",
        "    password = ''.join(random.choice(all_characters) for _ in range(length))\n",
        "    return password\n",
        "\n",
        "# Example usage:\n",
        "password_length = int(input(\"Enter the desired password length: \"))\n",
        "generated_password = generate_password(password_length)\n",
        "print(f\"Generated password: {generated_password}\")"
      ],
      "metadata": {
        "id": "BFVrkEi9fNiD",
        "colab": {
          "base_uri": "https://localhost:8080/"
        },
        "outputId": "77427769-c3f6-43f2-8594-3d442164e363"
      },
      "execution_count": 45,
      "outputs": [
        {
          "output_type": "stream",
          "name": "stdout",
          "text": [
            "Enter the desired password length: 199\n",
            "Generated password: 0vMVz-mVFI<dpGRHCHzKBckdRpi06I\\{G-I.(AD'_~M>4jZ-.5PGgOC}KPWmaQ!BdC6kKKGqim8$%7gM!IDv@9vI[O>GA[[_D!*W2vRX@^%[E3!mYk9sUq(\\~fu!%<T0){7:%N%`@B;:1U-w@k,ZlHk!JpOYmHvC\"Al'$o3z^72zNJ|}j9LA_Jh>Fu:8?~X/*erL['C\n"
          ]
        }
      ]
    },
    {
      "cell_type": "markdown",
      "source": [
        "# Try these questions"
      ],
      "metadata": {
        "id": "6SmvS7nSfbj8"
      }
    },
    {
      "cell_type": "markdown",
      "source": [
        "(21) Define a base class called 'Vehicle' with attributes make and model. Create a derived class Car that inherits from Vehicle and has an additional attribute 'num_doors'. Demonstrate an example of creating an instance of the 'Car' class and accessing its attributes."
      ],
      "metadata": {
        "id": "cboAr5pEWUf5"
      }
    },
    {
      "cell_type": "code",
      "source": [
        "# write your answer here\n",
        "class Vehicle:\n",
        "    def __init__(self, make, model):\n",
        "        \"\"\"\n",
        "        Initializes a Vehicle instance with make and model.\n",
        "        \"\"\"\n",
        "        self.make = make\n",
        "        self.model = model\n",
        "\n",
        "class Car(Vehicle):\n",
        "    def __init__(self, make, model, num_doors):\n",
        "        \"\"\"\n",
        "        Initializes a Car instance with make, model, and num_doors.\n",
        "        \"\"\"\n",
        "        super().__init__(make, model)  # Calls the Vehicle constructor\n",
        "        self.num_doors = num_doors\n",
        "\n",
        "# Example:\n",
        "my_car = Car(\"Toyota\", \"Corolla\", 4)\n",
        "print(f\"Make: {my_car.make}\")\n",
        "print(f\"Model: {my_car.model}\")\n",
        "print(f\"Number of doors: {my_car.num_doors}\")\n"
      ],
      "metadata": {
        "id": "phs9gciMWWAW",
        "colab": {
          "base_uri": "https://localhost:8080/"
        },
        "outputId": "02e0fbf6-edc3-4051-f9b5-800aa3779c03"
      },
      "execution_count": 48,
      "outputs": [
        {
          "output_type": "stream",
          "name": "stdout",
          "text": [
            "Make: Toyota\n",
            "Model: Corolla\n",
            "Number of doors: 4\n"
          ]
        }
      ]
    },
    {
      "cell_type": "markdown",
      "source": [
        "(22) Create a class called 'Shape' with a method calculate_area(). Implement two derived classes 'Circle' and 'Rectangle' that inherit from Shape and override the calculate_area() method. Demonstrate polymorphism by creating instances of both derived classes and calling the calculate_area() method."
      ],
      "metadata": {
        "id": "J8HHefNtePwd"
      }
    },
    {
      "cell_type": "code",
      "source": [
        "# write your answer here\n",
        "import math\n",
        "\n",
        "class Shape:\n",
        "    def calculate_area(self):\n",
        "        \"\"\"\n",
        "        Calculates the area of the shape.\n",
        "        \"\"\"\n",
        "        pass  # This method should be overridden by derived classes\n",
        "\n",
        "class Circle(Shape):\n",
        "    def __init__(self, radius):\n",
        "        \"\"\"\n",
        "        Initializes a Circle instance with radius.\n",
        "        \"\"\"\n",
        "        self.radius = radius\n",
        "\n",
        "    def calculate_area(self):\n",
        "        \"\"\"\n",
        "        Calculates the area of the circle.\n",
        "        \"\"\"\n",
        "        return math.pi * (self.radius ** 2)\n",
        "\n",
        "class Rectangle(Shape):\n",
        "    def __init__(self, width, height):\n",
        "        \"\"\"\n",
        "        Initializes a Rectangle instance with width and height.\n",
        "        \"\"\"\n",
        "        self.width = width\n",
        "        self.height = height\n",
        "\n",
        "    def calculate_area(self):\n",
        "        \"\"\"\n",
        "        Calculates the area of the rectangle.\n",
        "        \"\"\"\n",
        "        return self.width * self.height\n",
        "\n",
        "# Example:\n",
        "circle = Circle(5)\n",
        "rectangle = Rectangle(4, 6)\n",
        "\n",
        "print(f\"Circle area: {circle.calculate_area():.2f}\")\n",
        "print(f\"Rectangle area: {rectangle.calculate_area():.2f}\")\n",
        "\n",
        "# Demonstrate polymorphism\n",
        "shapes = [circle, rectangle]\n",
        "for shape in shapes:\n",
        "    print(f\"Shape area: {shape.calculate_area():.2f}\")"
      ],
      "metadata": {
        "id": "btnMmUZDeRhS",
        "colab": {
          "base_uri": "https://localhost:8080/"
        },
        "outputId": "c0dc09b0-ba44-4184-ce89-13c9ffa8e566"
      },
      "execution_count": 49,
      "outputs": [
        {
          "output_type": "stream",
          "name": "stdout",
          "text": [
            "Circle area: 78.54\n",
            "Rectangle area: 24.00\n",
            "Shape area: 78.54\n",
            "Shape area: 24.00\n"
          ]
        }
      ]
    },
    {
      "cell_type": "markdown",
      "source": [
        "(23) Write a Python program that prompts the user to enter two numbers and perform a division operation. Handle exceptions for both zero division and invalid input (non-numeric input). Display appropriate error messages for each type of exception and ensure the program does not crash due to these errors."
      ],
      "metadata": {
        "id": "z0oqEAlTeMUS"
      }
    },
    {
      "cell_type": "code",
      "source": [
        "# write your answer here\n",
        "def get_number(prompt):\n",
        "    \"\"\"\n",
        "    Gets a number from the user, handling invalid input.\n",
        "    \"\"\"\n",
        "    while True:\n",
        "        try:\n",
        "            return float(input(prompt))\n",
        "        except ValueError:\n",
        "            print(\"Invalid input. Please enter a number.\")\n",
        "\n",
        "def divide(num1, num2):\n",
        "    \"\"\"\n",
        "    Performs division, handling zero division.\n",
        "    \"\"\"\n",
        "    try:\n",
        "        return num1 / num2\n",
        "    except ZeroDivisionError:\n",
        "        raise ValueError(\"Cannot divide by zero!\")\n",
        "\n",
        "def main():\n",
        "    num1 = get_number(\"Enter the first number: \")\n",
        "    num2 = get_number(\"Enter the second number: \")\n",
        "\n",
        "    try:\n",
        "        result = divide(num1, num2)\n",
        "        print(f\"{num1} divided by {num2} is {result:.2f}\")\n",
        "    except ValueError as e:\n",
        "        print(f\"Error: {e}\")\n",
        "\n",
        "if __name__ == \"__main__\":\n",
        "    main()"
      ],
      "metadata": {
        "id": "yjdc1zM1eMAs",
        "colab": {
          "base_uri": "https://localhost:8080/"
        },
        "outputId": "d73cdb7b-29b5-4e64-b953-83da3c51ad6f"
      },
      "execution_count": 51,
      "outputs": [
        {
          "output_type": "stream",
          "name": "stdout",
          "text": [
            "Enter the first number: 6\n",
            "Enter the second number: 0\n",
            "Error: Cannot divide by zero!\n"
          ]
        }
      ]
    },
    {
      "cell_type": "markdown",
      "source": [
        "# Mandatory Question"
      ],
      "metadata": {
        "id": "sZOhks1dXWEe"
      }
    },
    {
      "cell_type": "markdown",
      "source": [
        "**Important:**\n",
        "Reflecting on the first three lectures and the exercises you've completed, please provide feedback on your learning experience. Share your thoughts on whether the material covered was clear, the exercises were helpful, and if you feel more confident in applying Python programming concepts. Additionally, mention any specific areas where you would like more clarification or topics you would like to explore further in future lectures. Your feedback is valuable in shaping the course for an effective learning journey."
      ],
      "metadata": {
        "id": "eqmHVEwaWhbV"
      }
    },
    {
      "cell_type": "code",
      "source": [
        "'''\n",
        "Write your response here.\n",
        "'''\n",
        "I am completely satisfied with this course and also the classes that I am attending.\n",
        "As this exercise is a very good which is helpful for learning basic concepts of Python Programming.\n",
        "I had a little knowledge in programming and it is one of the main reason that I can understand the concepts easily.\n",
        "Apart from these I would like to metion that I was little confused in exception handling methods and few functions n python.\n",
        "I will be going through this perfectly and understand more on this.\n",
        "Thanks for the classes and exercises.....\n"
      ],
      "metadata": {
        "id": "akAVJn9YBTQT",
        "colab": {
          "base_uri": "https://localhost:8080/",
          "height": 106
        },
        "outputId": "045a86f1-0dbf-4a65-b361-bc11699a6b6b"
      },
      "execution_count": 47,
      "outputs": [
        {
          "output_type": "error",
          "ename": "SyntaxError",
          "evalue": "invalid syntax (<ipython-input-47-82d159cbf409>, line 4)",
          "traceback": [
            "\u001b[0;36m  File \u001b[0;32m\"<ipython-input-47-82d159cbf409>\"\u001b[0;36m, line \u001b[0;32m4\u001b[0m\n\u001b[0;31m    I am completely satisfied with this course and also the classes that I am attending.\u001b[0m\n\u001b[0m      ^\u001b[0m\n\u001b[0;31mSyntaxError\u001b[0m\u001b[0;31m:\u001b[0m invalid syntax\n"
          ]
        }
      ]
    },
    {
      "cell_type": "code",
      "source": [],
      "metadata": {
        "id": "nwbsWdjuIYvg"
      },
      "execution_count": null,
      "outputs": []
    }
  ],
  "metadata": {
    "colab": {
      "provenance": [],
      "include_colab_link": true
    },
    "kernelspec": {
      "display_name": "Python 3 (ipykernel)",
      "language": "python",
      "name": "python3"
    },
    "language_info": {
      "codemirror_mode": {
        "name": "ipython",
        "version": 3
      },
      "file_extension": ".py",
      "mimetype": "text/x-python",
      "name": "python",
      "nbconvert_exporter": "python",
      "pygments_lexer": "ipython3",
      "version": "3.9.12"
    }
  },
  "nbformat": 4,
  "nbformat_minor": 0
}