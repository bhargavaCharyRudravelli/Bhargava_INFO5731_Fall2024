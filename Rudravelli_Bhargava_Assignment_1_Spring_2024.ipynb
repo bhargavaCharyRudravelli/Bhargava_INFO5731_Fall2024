{
  "cells": [
    {
      "cell_type": "markdown",
      "metadata": {
        "id": "view-in-github",
        "colab_type": "text"
      },
      "source": [
        "<a href=\"https://colab.research.google.com/github/bhargavaCharyRudravelli/Bhargava_INFO5731_Fall2024/blob/main/Rudravelli_Bhargava_Assignment_1_Spring_2024.ipynb\" target=\"_parent\"><img src=\"https://colab.research.google.com/assets/colab-badge.svg\" alt=\"Open In Colab\"/></a>"
      ]
    },
    {
      "cell_type": "markdown",
      "metadata": {
        "id": "Ryk8D1Q4Wsrp"
      },
      "source": [
        "# **INFO5731 Assignment One**"
      ]
    },
    {
      "cell_type": "markdown",
      "source": [
        "This assignment includes range of programming tasks and data analysis exercises, aiming to enhance your Python skills and proficiency in string manipulation, numerical computations, and data science. Follow the instructions carefully and design well-structured Python programs to address each question.\n",
        "\n",
        "Late Submission will have a penalty of 10% reduction for each day after the deadline."
      ],
      "metadata": {
        "id": "qcP6re2g5A5r"
      }
    },
    {
      "cell_type": "markdown",
      "metadata": {
        "id": "JkzR8cFAyGik"
      },
      "source": [
        "# Question 1 (10 points).\n",
        "\n",
        "The formula that describes the volume V of a hemisphere with radius r is the following:\n",
        "\n",
        "$ V=\\frac{2}{3}\\ast\\ \\pi\\ast\\ r^3 $\n",
        "\n",
        "Write a program to calculate the value of V when r is in the range of even numbers from 1-20. Output the result in the following format:\n",
        "\n",
        "\tr\tV\n",
        "\t2\t…\n",
        "\t4\t…\n",
        "\t6\t…\n",
        "\t.\n",
        "\t.\n",
        "\t.\n",
        "\t20\t…\n"
      ]
    },
    {
      "cell_type": "code",
      "execution_count": 25,
      "metadata": {
        "id": "jDyTKYs-yGit",
        "colab": {
          "base_uri": "https://localhost:8080/"
        },
        "outputId": "b7045a0c-bfa4-4d19-f4a5-e482fabb439a"
      },
      "outputs": [
        {
          "output_type": "stream",
          "name": "stdout",
          "text": [
            "r V\n",
            "2 16.755160819145562\n",
            "4 134.0412865531645\n",
            "6 452.38934211693015\n",
            "8 1072.330292425316\n",
            "10 2094.3951023931954\n",
            "12 3619.114736935441\n",
            "14 5747.0201609669275\n",
            "16 8578.642339402528\n",
            "18 12214.512237157114\n"
          ]
        }
      ],
      "source": [
        "# Your code here\n",
        "\n",
        "import math\n",
        "\n",
        "def volumehemisphere(r):\n",
        "  return (2/3)*math.pi*(r**3)\n",
        "\n",
        "print('r'+' '+'V')\n",
        "for r in range(1,20):\n",
        "  if r % 2 == 0:\n",
        "   V = volumehemisphere(r)\n",
        "   print(r,V)\n",
        "\n"
      ]
    },
    {
      "cell_type": "markdown",
      "metadata": {
        "id": "90_NR8c5XGWc"
      },
      "source": [
        "# Question 2 (20 points)\n",
        "\n",
        "(a) Write a Python program to generate a sequence of 12 random numbers falling within the range of 50 to 150.\n",
        "\n",
        "(b) Arrange the generated numbers in ascending order. Display the sorted list.\n",
        "\n",
        "(c) Extend the program to arrange the numbers in descending order as well. Present the sorted list accordingly.\n",
        "\n",
        "(d) Compute and output the average of the entire group of generated numbers.\n",
        "\n",
        "(e) Enhance the program to calculate and display the average of the first 6 numbers from both the ascending and descending sorted lists."
      ]
    },
    {
      "cell_type": "code",
      "execution_count": 26,
      "metadata": {
        "id": "5QX6bJjGWXY9",
        "colab": {
          "base_uri": "https://localhost:8080/"
        },
        "outputId": "c7d417f0-5d3d-461c-e00b-e2ca79911dba"
      },
      "outputs": [
        {
          "output_type": "stream",
          "name": "stdout",
          "text": [
            "generated random number are: [91, 72, 102, 78, 116, 103, 82, 137, 117, 139, 87, 78]\n",
            "ascending order: [72, 78, 78, 82, 87, 91, 102, 103, 116, 117, 137, 139]\n",
            "descending order: [139, 137, 117, 116, 103, 102, 91, 87, 82, 78, 78, 72]\n",
            "Average of all numbers: 100.16666666666667\n",
            "Average of first 6 in ascending order: 81.33333333333333\n",
            "Average of first 6 in descending order: 119.0\n"
          ]
        }
      ],
      "source": [
        "# Write code for each of the sub parts with proper comments.\n",
        "\n",
        "import random\n",
        "\n",
        "#create a variable and generate sequence of 12 random numbers using the random library in range of 50 to 150\n",
        "numbers = []\n",
        "for i in range(12):\n",
        "    new_var = numbers.append(random.randint(50, 150))\n",
        "    new_var\n",
        "print(\"generated random number are:\", numbers)\n",
        "#arranging the numbers in ascending order using sorted function\n",
        "numbers_asce = sorted(numbers)\n",
        "print(\"ascending order:\", numbers_asce)\n",
        "\n",
        "#arrange the numbers in descending order using sorted function passing reverse value as True\n",
        "numbers_desc = sorted(numbers, reverse=True)\n",
        "print(\"descending order:\", numbers_desc)\n",
        "\n",
        "#Compute and output the average of the entire group of generated numbers\n",
        "total_avg = sum(numbers) / len(numbers)\n",
        "print(\"average of all numbers:\", total_avg)\n",
        "\n",
        "# calculate the average of the first 6 numbers from both the ascending and\n",
        "# descending sorted lists\n",
        "six_asce = sum(numbers_asce[:6]) / 6\n",
        "six_desc = sum(numbers_desc[:6]) / 6\n",
        "\n",
        "print(\"average of first 6 in ascending order:\", six_asce)\n",
        "print(\"average of first 6 in descending order:\", six_desc)\n",
        "\n"
      ]
    },
    {
      "cell_type": "markdown",
      "metadata": {
        "id": "1F_PZdH9Sh49"
      },
      "source": [
        "# Question 3 (20 points).\n",
        "\n",
        "Create a Python program that encompasses various string manipulation task:\n",
        "\n",
        "(a) Prompt the user to input two sentences.\n",
        "\n",
        "(b) Transform each sentence into a list, where each element corresponds to a word in the sentence. For example, if the sentences are \"Hello, how are you doing today?\" and \"This is an example sentence for the program!\"\n",
        "\n",
        "The program should output:\n",
        "['Hello', ',', 'how', 'are', 'you', 'doing', 'today', '?', 'This', 'is', 'an', 'example', 'sentence', 'for', 'the', 'program', '!']\n",
        "\n",
        "(c) Compare the two sentences. Print out a list of words that occur in both sentences.\n",
        "\n",
        "(d) Remove any punctuation from the sentence and print the sanitized sentences. It should remove at least the following characters, but it can remove more: period(“.”), comma (“,”), semicolon (“;”), and colon (“:”).\n",
        "\n",
        "(e) Count the number of vowels in each of the sentences. Print out each vowel and the occurrences  in the each of the two sentences separately, such as:\n",
        "\n",
        "Sentence1: a:2, e:2, i:0, etc.\n",
        "Sentence2: a:1, e:2, i:2, etc.\n",
        "\n",
        "Design a well-structured Python program to execute these tasks efficiently."
      ]
    },
    {
      "cell_type": "code",
      "execution_count": 5,
      "metadata": {
        "id": "Y0oOSlsOS0cq",
        "colab": {
          "base_uri": "https://localhost:8080/"
        },
        "outputId": "9d2ec52b-b18d-46a5-b7a2-f592bffb7f3f"
      },
      "outputs": [
        {
          "output_type": "stream",
          "name": "stdout",
          "text": [
            "Enter the first sentence: Hello, how are you doing today?\n",
            "Enter the second sentence: This is an example sentence for the program!\n",
            "\n",
            "Combined list of words from both sentences:\n",
            "['Hello,', 'how', 'are', 'you', 'doing', 'today?', 'This', 'is', 'an', 'example', 'sentence', 'for', 'the', 'program!']\n",
            "\n",
            "Common words in both sentences: []\n",
            "\n",
            "Cleaned Sentence 1: Hello how are you doing today\n",
            "Cleaned Sentence 2: This is an example sentence for the program\n",
            "\n",
            "Vowel count in sentence 1:\n",
            "a: 2\n",
            "e: 2\n",
            "i: 1\n",
            "o: 5\n",
            "u: 1\n",
            "\n",
            "Vowel count in sentence 2:\n",
            "a: 3\n",
            "e: 6\n",
            "i: 2\n",
            "o: 2\n",
            "u: 0\n"
          ]
        }
      ],
      "source": [
        "\n",
        "a = input(\"Enter the first sentence: \") #Hello, how are you doing today?\n",
        "b = input(\"Enter the second sentence: \") #This is an example sentence for the program!\n",
        "\n",
        "#split the sentences into words\n",
        "a_words = a.split()\n",
        "b_words = b.split()\n",
        "print(\"\\nCombined list of words from both sentences:\")\n",
        "print(a_words + b_words)\n",
        "\n",
        "#find and print common words between the two sentences\n",
        "common_words = []\n",
        "for word in a_words:\n",
        "    if word in b_words and word not in common_words:\n",
        "        common_words.append(word)\n",
        "\n",
        "print(\"\\nCommon words in both sentences:\", common_words)\n",
        "\n",
        "#Remove punctuation from both of the sentences\n",
        "punctuation = \".,;:!?'\"\n",
        "new_sentence1 = \"\"\n",
        "for char in a:\n",
        "    if char not in punctuation:\n",
        "        new_sentence1 += char\n",
        "\n",
        "new_sentence2 = \"\"\n",
        "for char in b:\n",
        "    if char not in punctuation:\n",
        "        new_sentence2 += char\n",
        "\n",
        "print(\"\\nCleaned Sentence 1:\", new_sentence1)\n",
        "print(\"Cleaned Sentence 2:\", new_sentence2)\n",
        "\n",
        "#counting the vowels in each sentence\n",
        "vowels = \"aeiou\"\n",
        "vowelsInA = {v: 0 for v in vowels}\n",
        "vowelsInB = {v: 0 for v in vowels}\n",
        "\n",
        "for char in new_sentence1.lower():\n",
        "    if char in vowels:\n",
        "        vowelsInA[char] += 1\n",
        "\n",
        "for char in new_sentence2.lower():\n",
        "    if char in vowels:\n",
        "        vowelsInB[char] += 1\n",
        "\n",
        "print(\"\\nVowel count in sentence 1:\")\n",
        "for vowel, count in vowelsInA.items():\n",
        "    print(f\"{vowel}: {count}\")\n",
        "\n",
        "print(\"\\nVowel count in sentence 2:\")\n",
        "for vowel, count in vowelsInB.items():\n",
        "    print(f\"{vowel}: {count}\")\n"
      ]
    },
    {
      "cell_type": "markdown",
      "source": [
        "# Question 4 (20 Points)"
      ],
      "metadata": {
        "id": "OP4-5qxAtInv"
      }
    },
    {
      "cell_type": "markdown",
      "source": [
        "Design and implement a simple command-line calculator program. The program should handle both integers and floating-point numbers.\n",
        "\n",
        "(a) Write program that takes a mathematical expression as input and evaluates it. The program should support addition, subtraction, multiplication, and division.\n",
        "\n",
        "(b) Extend the calculator to handle parentheses in mathematical expressions. Implement the necessary logic to evaluate expressions with nested parentheses.\n",
        "\n",
        "(c) Enhance your calculator to include additional mathematical operations such as exponentiation, square root, and modulus.\n",
        "\n",
        "(d) Implement error handling in the calculator program. Handle cases such as division by zero and invalid input expressions. Provide meaningful error messages.\n",
        "\n",
        "(e) Implement a command to exit the calculator."
      ],
      "metadata": {
        "id": "uzN4_hDptK9U"
      }
    },
    {
      "cell_type": "code",
      "source": [
        "# Your code here\n",
        "import math\n",
        "\n",
        "def calculator():\n",
        "    print(\"Hi! Welcome to the Calculator\")\n",
        "\n",
        "    while True:\n",
        "        expression = input(\"Enter a mathematical expression: \")\n",
        "\n",
        "        #logic for exit from calculator\n",
        "        if expression.lower() == 'exit':\n",
        "            print(\"Thanks for using the calculator!!!\")\n",
        "            break\n",
        "\n",
        "        try:\n",
        "            expression = expression.replace('sqrt', 'math.sqrt')\n",
        "            result = eval(expression)\n",
        "            print(\"Result:\", result, \"\\n\")\n",
        "        #Exceptions are handled here\n",
        "        except ZeroDivisionError:\n",
        "            print(\"Error: Division by zero is not possible.\\n\")\n",
        "\n",
        "        except SyntaxError:\n",
        "            print(\"Error: Invalid syntax. Please check your expression.\\n\")\n",
        "\n",
        "        except Exception as e:\n",
        "            print(\"Error:\", e, \"\\n\")\n",
        "\n",
        "#calls the calculator\n",
        "calculator()\n"
      ],
      "metadata": {
        "id": "8nQnVxjJuYtu",
        "colab": {
          "base_uri": "https://localhost:8080/"
        },
        "outputId": "de19a707-a24f-42e8-d23c-e269e35c3eb4"
      },
      "execution_count": 19,
      "outputs": [
        {
          "output_type": "stream",
          "name": "stdout",
          "text": [
            "Hi! Welcome to the Calculator\n",
            "Enter a mathematical expression: 5*6*7\n",
            "Result: 210 \n",
            "\n",
            "Enter a mathematical expression: exit\n",
            "Thanks for using the calculator!!!\n"
          ]
        }
      ]
    },
    {
      "cell_type": "markdown",
      "metadata": {
        "id": "z3tBE7E-Xn5X"
      },
      "source": [
        "# Question 5 (30 points).\n",
        "\n",
        "In the field of Data Science, data is often formatted as a comma-delimited (CSV) file, where each line in a file corresponds to a field's value. Refer to Chapter 9 (p. 106) for more information on comma-delimited files.\n",
        "\n",
        "To answer this question, you will need to download the file [Assignment1_denton_housing.csv](https://raw.githubusercontent.com/unt-iialab/info5731-spring2022/main/assignments/Assignment1_denton_housing.csv) included with this assignment. The file contains statistics about housing in the city of Denton from 2008 to 2014. Write a program to implement the following questions.\n",
        "\n",
        "(a) (5 pts) Calculate the difference in the number of Occupied Housing Units from year to year and print it. The difference must be calculated for the consecutive years such as 2008-2009, 2009-2010 etc. Finally, print the values in the ascending order.\n",
        "\n",
        "(b) (5 pts) For all the years, calculate the percentage of housing units which are vacant an occupied. Print the results in the following format:\n",
        "\n",
        "Year Vacant Housing Units Occupied Housing Units\n",
        "\n",
        "    2008  30%   70%                          \n",
        "\t2009 ----- -----\n",
        "\t2010 ----- -----\n",
        "    2011 ----- -----\n",
        "\t2012 ----- -----\n",
        "    2013 ----- -----\n",
        "\t2014 ----- -----\n",
        "  \n",
        "  \n",
        "\n",
        "(c) (10 pts) Calculate and print the valued and years in which the highest number of housing units were vacant and occupied. Print the results in the following format:  \n",
        "\n",
        "                              Year\tValue\n",
        "\tVacant Housing Units\t  -----   -----\n",
        "\tOccupied Housing Units\t-----   -----\n",
        "\n",
        "(d) (10 pts) Calculate the harmonic mean of the total housing units and print it out. You can find the information about harmonic mean here: https://ncalculators.com/statistics/harmonic-mean-calculator.htm"
      ]
    },
    {
      "cell_type": "code",
      "execution_count": 17,
      "metadata": {
        "id": "lqGYuHBhcsRH",
        "colab": {
          "base_uri": "https://localhost:8080/"
        },
        "outputId": "347b07d3-c74a-4b65-b888-cbc4c8ad265e"
      },
      "outputs": [
        {
          "output_type": "stream",
          "name": "stdout",
          "text": [
            "Year-to-Year Differences in Occupied Housing Units (in ascending order):\n"
          ]
        }
      ],
      "source": [
        " # Your code here\n",
        "\n",
        "import csv\n",
        "from statistics import harmonic_mean\n",
        "\n",
        "#Calculate the difference in the number of Occupied Housing Units from year to year and print it\n",
        "def calculateYearlyDifferences(data):\n",
        "    occupied_data = {int(row['year']): int(row['value']) for row in data if row['title'] == 'Occupied Housing Units'}\n",
        "    years = sorted(occupied_data.keys())\n",
        "    differences = []\n",
        "    for i in range(len(years) - 1):\n",
        "        year1 = years[i]\n",
        "        year2 = years[i + 1]\n",
        "        difference = occupied_data[year2] - occupied_data[year1]\n",
        "        differences.append((year1, year2, difference))\n",
        "    differences.sort(key=lambda x: x[2])\n",
        "    return differences\n",
        "\n",
        "#calculate the percentage of housing units which are vacant an occupied\n",
        "def calculatePercentages(data):\n",
        "    result = {}\n",
        "    for row in data:\n",
        "        year = int(row['year'])\n",
        "        housing_type = row['title']\n",
        "        units = int(row['value'])\n",
        "        if year not in result:\n",
        "            result[year] = {'Vacant': 0, 'Occupied': 0}\n",
        "        if housing_type == 'Vacant Housing Units':\n",
        "            result[year]['Vacant'] = units\n",
        "        elif housing_type == 'Occupied Housing Units':\n",
        "            result[year]['Occupied'] = units\n",
        "    return result\n",
        "\n",
        "#find the year with the highest number of vacant and occupied housing units\n",
        "def find_highest_values(data):\n",
        "    highest_vacant = max([row for row in data if row['title'] == 'Vacant Housing Units'], key=lambda x: int(x['value']))\n",
        "    highest_occupied = max([row for row in data if row['title'] == 'Occupied Housing Units'], key=lambda x: int(x['value']))\n",
        "    return highest_vacant, highest_occupied\n",
        "\n",
        "#calculate the harmonic mean of the total housing units\n",
        "def calculate_harmonic_mean(data):\n",
        "    total_units = []\n",
        "    for row in data:\n",
        "        if row['title'] in ['Vacant Housing Units', 'Occupied Housing Units']:\n",
        "            total_units.append(int(row['value']))\n",
        "    return harmonic_mean(total_units)\n",
        "\n",
        "#read the data from the CSV file\n",
        "data = []\n",
        "with open('\"C:\\\\Users\\\\Bhargav UNT\\\\Assignment1_denton_housing.csv\"', 'r') as file:\n",
        "    reader = csv.DictReader(file)\n",
        "    for row in reader:\n",
        "        data.append(row)\n",
        "\n",
        "#calculate and print year-to-year differences in Occupied Housing Units\n",
        "yearly_differences = calculateYearlyDifferences(data)\n",
        "print(\"Year-to-Year Differences in Occupied Housing Units (in ascending order):\")\n"
      ]
    },
    {
      "cell_type": "markdown",
      "source": [
        "# Mandatory Question\n",
        "\n",
        "Provide your thoughts on the assignment. What did you find challenging, and what aspects did you enjoy? Your opinion on the provided time to complete the assignment. Share any suggestions for improvement. Your feedback will be valuable for enhancing the learning experience."
      ],
      "metadata": {
        "id": "q8BFCvWp32cf"
      }
    },
    {
      "cell_type": "code",
      "source": [
        "# Write your response below\n",
        "This assignment is a challenging one. Because it has many concepts in it and also need to learn few more from this assignment. Especially the usage if csv files. As this assignment took too much of time to complete it and also I have strucked at the last task. This assignment is really time taken to complete it."
      ],
      "metadata": {
        "id": "_e557s2w4BpK"
      },
      "execution_count": null,
      "outputs": []
    }
  ],
  "metadata": {
    "colab": {
      "provenance": [],
      "toc_visible": true,
      "include_colab_link": true
    },
    "kernelspec": {
      "display_name": "Python 3 (ipykernel)",
      "language": "python",
      "name": "python3"
    },
    "language_info": {
      "codemirror_mode": {
        "name": "ipython",
        "version": 3
      },
      "file_extension": ".py",
      "mimetype": "text/x-python",
      "name": "python",
      "nbconvert_exporter": "python",
      "pygments_lexer": "ipython3",
      "version": "3.9.12"
    }
  },
  "nbformat": 4,
  "nbformat_minor": 0
}